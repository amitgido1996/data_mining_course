{
 "cells": [
  {
   "cell_type": "markdown",
   "id": "d70cd4d3-474e-4c72-8f46-3fe9aca9e70f",
   "metadata": {},
   "source": [
    "### Amit Gido , ID 315754606"
   ]
  },
  {
   "cell_type": "markdown",
   "id": "8cf5b050-eb4b-4440-87d1-fe4b6c184203",
   "metadata": {},
   "source": [
    "### Question 1 "
   ]
  },
  {
   "cell_type": "code",
   "execution_count": 1,
   "id": "bc43d398-0179-4589-ae5e-ac73ca5f91d1",
   "metadata": {},
   "outputs": [],
   "source": [
    "def my_func(x1,x2,x3):\n",
    "    check_1 = isinstance(x1, float) and isinstance(x2, float) and isinstance(x3, float)\n",
    "    check_2 = isinstance(x1, str) or isinstance(x2, str) or isinstance(x3, str)\n",
    "    if check_2 == True:\n",
    "        return(print(None))\n",
    "    if check_1 == False:\n",
    "        return(print('Error: parameters should be float'))\n",
    "    else:\n",
    "        tmp1 = (x1+x2+x3) * (x2+x3) * x3\n",
    "        tmp2 = (x1+x2+x3)\n",
    "    if tmp2 == 0:\n",
    "        return(print('Not a number – denominator equals zero')) \n",
    "    else:\n",
    "        return float(tmp1/tmp2)"
   ]
  },
  {
   "cell_type": "code",
   "execution_count": 2,
   "id": "ae352bc9-1d71-4246-a64e-bfeb68dbe525",
   "metadata": {},
   "outputs": [
    {
     "name": "stdout",
     "output_type": "stream",
     "text": [
      "Error: parameters should be float\n"
     ]
    }
   ],
   "source": [
    "my_func(10.1,12.2,22)"
   ]
  },
  {
   "cell_type": "code",
   "execution_count": 3,
   "id": "d2f98af6-5625-4e15-9a87-66f8a3fbe557",
   "metadata": {},
   "outputs": [
    {
     "name": "stdout",
     "output_type": "stream",
     "text": [
      "None\n"
     ]
    }
   ],
   "source": [
    "my_func(10.1,12.2,'str')"
   ]
  },
  {
   "cell_type": "code",
   "execution_count": 4,
   "id": "775cfae6-77dc-4bf1-bd0c-6837c8ba176e",
   "metadata": {},
   "outputs": [
    {
     "data": {
      "text/plain": [
       "769.35"
      ]
     },
     "execution_count": 4,
     "metadata": {},
     "output_type": "execute_result"
    }
   ],
   "source": [
    "my_func(10.1,12.2,22.3)"
   ]
  },
  {
   "cell_type": "markdown",
   "id": "a416110a-5811-4201-a542-c1a91678ca17",
   "metadata": {},
   "source": [
    "### Question 2 "
   ]
  },
  {
   "cell_type": "code",
   "execution_count": 5,
   "id": "9aa3775b-f572-46c4-a04b-cb0f30b6ca73",
   "metadata": {},
   "outputs": [],
   "source": [
    "def revword(word):\n",
    "    if not isinstance(word, str):\n",
    "        print('Vaild input word')\n",
    "        return None\n",
    "    tmp = word [::-1].lower()\n",
    "    return tmp"
   ]
  },
  {
   "cell_type": "code",
   "execution_count": 7,
   "id": "dbf3808c-2992-49ef-90ae-ce96dc1900e1",
   "metadata": {},
   "outputs": [
    {
     "data": {
      "text/plain": [
       "'tima'"
      ]
     },
     "execution_count": 7,
     "metadata": {},
     "output_type": "execute_result"
    }
   ],
   "source": [
    "revword('Amit')"
   ]
  },
  {
   "cell_type": "code",
   "execution_count": 6,
   "id": "ee2f1fdd-cf06-40c9-b745-72196d260633",
   "metadata": {},
   "outputs": [
    {
     "data": {
      "text/plain": [
       "6"
      ]
     },
     "execution_count": 6,
     "metadata": {},
     "output_type": "execute_result"
    }
   ],
   "source": [
    "def countwords(filename):\n",
    "    file = open(filename, 'r')\n",
    "    check_List = list()\n",
    "    for line in file:\n",
    "        line = line.rstrip()\n",
    "        words = line.split()\n",
    "        for word in words:\n",
    "            check_List.append(word)\n",
    "\n",
    "    counter = 1       \n",
    "    word = check_List[0]\n",
    "    for word_Check in check_List[1:]:\n",
    "        if word == revword(word_Check):\n",
    "            counter += 1\n",
    "    return counter\n",
    "    \n",
    "countwords('text.txt')"
   ]
  }
 ],
 "metadata": {
  "kernelspec": {
   "display_name": "Python 3",
   "language": "python",
   "name": "python3"
  },
  "language_info": {
   "codemirror_mode": {
    "name": "ipython",
    "version": 3
   },
   "file_extension": ".py",
   "mimetype": "text/x-python",
   "name": "python",
   "nbconvert_exporter": "python",
   "pygments_lexer": "ipython3",
   "version": "3.8.8"
  }
 },
 "nbformat": 4,
 "nbformat_minor": 5
}
