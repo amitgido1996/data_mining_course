{
 "cells": [
  {
   "cell_type": "markdown",
   "id": "fe93ba32-1a0f-4b56-8e56-f14ea231a20a",
   "metadata": {},
   "source": [
    "## Assignment 3 : Web services \n",
    "#### Name : Amit Gido\n",
    "#### ID : 315754606"
   ]
  },
  {
   "cell_type": "code",
   "execution_count": 1,
   "id": "5479415a-c721-4f29-94f2-fc787135e2ce",
   "metadata": {},
   "outputs": [],
   "source": [
    "import pandas as pd\n",
    "import requests\n"
   ]
  },
  {
   "cell_type": "code",
   "execution_count": 2,
   "id": "8a177ce8-e305-4a86-bf0e-ea4ec26f53b8",
   "metadata": {},
   "outputs": [],
   "source": [
    "#Google Maps API key\n",
    "api_key = \"XXXXXXXXXXXXXXXXXXXXXXXXXXXXXXXXXXXXX\"\n"
   ]
  },
  {
   "cell_type": "code",
   "execution_count": 3,
   "id": "dfcd9e45-6b13-4fa1-b93c-98c59fed55c7",
   "metadata": {},
   "outputs": [],
   "source": [
    "# Read the list of destinations from file\n",
    "with open('dests.txt', 'r') as file:\n",
    "    destinations = [line.strip() for line in file.readlines()]\n",
    "    "
   ]
  },
  {
   "cell_type": "code",
   "execution_count": 4,
   "id": "981b14e2-c0ac-4090-a532-b26e0b0383d7",
   "metadata": {},
   "outputs": [],
   "source": [
    "# Initialize dataframe to store results\n",
    "results = []\n",
    "\n",
    "# Loop over destinations and retrieve information\n",
    "for dest in destinations:\n",
    "    \n",
    "    origins = 'Tel Aviv, Israel'\n",
    "    destinations = dest\n",
    "    url = f'https://maps.googleapis.com/maps/api/distancematrix/json?origins={origins}&destinations={destinations}&key={api_key}'\n",
    "    \n",
    "    # Retrieve distance and duration\n",
    "    response = requests.get(url)\n",
    "    data = response.json()\n",
    "    if data['status'] != 'OK':\n",
    "        print(f\"Error retrieving data for {dest}: {data['error_message']}\")\n",
    "        continue\n",
    "    distance_km = data['rows'][0]['elements'][0]['distance']['value'] / 1000\n",
    "    duration = data['rows'][0]['elements'][0]['duration']['text']\n",
    "    \n",
    "    # Retrieve longitude and latitude\n",
    "    response = requests.get(f'https://maps.googleapis.com/maps/api/geocode/json?address={dest}&key={api_key}')\n",
    "    data = response.json()\n",
    "    if data['status'] != 'OK':\n",
    "        print(f\"Error retrieving data for {dest}: {data['error_message']}\")\n",
    "        continue\n",
    "    longitude = data['results'][0]['geometry']['location']['lng']\n",
    "    latitude = data['results'][0]['geometry']['location']['lat']\n",
    "    \n",
    "    # Add results to list\n",
    "    results.append({'Target': dest, 'Distance_km': distance_km, 'Duration': duration, 'Longitude': longitude, 'Latitude': latitude})\n"
   ]
  },
  {
   "cell_type": "code",
   "execution_count": 5,
   "id": "bc9f3f85-940a-427f-96a2-8a45b54b2120",
   "metadata": {},
   "outputs": [],
   "source": [
    "# Convert list of dictionaries to dataframe\n",
    "results_df = pd.DataFrame(results)\n"
   ]
  },
  {
   "cell_type": "code",
   "execution_count": 6,
   "id": "66d50c94-9100-4658-b991-42fa10e6d695",
   "metadata": {},
   "outputs": [
    {
     "data": {
      "text/html": [
       "<div>\n",
       "<style scoped>\n",
       "    .dataframe tbody tr th:only-of-type {\n",
       "        vertical-align: middle;\n",
       "    }\n",
       "\n",
       "    .dataframe tbody tr th {\n",
       "        vertical-align: top;\n",
       "    }\n",
       "\n",
       "    .dataframe thead th {\n",
       "        text-align: right;\n",
       "    }\n",
       "</style>\n",
       "<table border=\"1\" class=\"dataframe\">\n",
       "  <thead>\n",
       "    <tr style=\"text-align: right;\">\n",
       "      <th></th>\n",
       "      <th>Target</th>\n",
       "      <th>Distance_km</th>\n",
       "      <th>Duration</th>\n",
       "      <th>Longitude</th>\n",
       "      <th>Latitude</th>\n",
       "    </tr>\n",
       "  </thead>\n",
       "  <tbody>\n",
       "    <tr>\n",
       "      <th>0</th>\n",
       "      <td>Istanbul</td>\n",
       "      <td>1815.227</td>\n",
       "      <td>21 hours 3 mins</td>\n",
       "      <td>28.978359</td>\n",
       "      <td>41.008238</td>\n",
       "    </tr>\n",
       "    <tr>\n",
       "      <th>1</th>\n",
       "      <td>Amsterdam</td>\n",
       "      <td>4534.843</td>\n",
       "      <td>2 days 0 hours</td>\n",
       "      <td>4.904139</td>\n",
       "      <td>52.367573</td>\n",
       "    </tr>\n",
       "    <tr>\n",
       "      <th>2</th>\n",
       "      <td>Valletta</td>\n",
       "      <td>3792.883</td>\n",
       "      <td>2 days 3 hours</td>\n",
       "      <td>14.514100</td>\n",
       "      <td>35.899237</td>\n",
       "    </tr>\n",
       "    <tr>\n",
       "      <th>3</th>\n",
       "      <td>Basel</td>\n",
       "      <td>4092.805</td>\n",
       "      <td>1 day 20 hours</td>\n",
       "      <td>7.588576</td>\n",
       "      <td>47.559599</td>\n",
       "    </tr>\n",
       "    <tr>\n",
       "      <th>4</th>\n",
       "      <td>Doha</td>\n",
       "      <td>2164.477</td>\n",
       "      <td>22 hours 39 mins</td>\n",
       "      <td>51.531040</td>\n",
       "      <td>25.285447</td>\n",
       "    </tr>\n",
       "  </tbody>\n",
       "</table>\n",
       "</div>"
      ],
      "text/plain": [
       "      Target  Distance_km          Duration  Longitude   Latitude\n",
       "0   Istanbul     1815.227   21 hours 3 mins  28.978359  41.008238\n",
       "1  Amsterdam     4534.843    2 days 0 hours   4.904139  52.367573\n",
       "2   Valletta     3792.883    2 days 3 hours  14.514100  35.899237\n",
       "3      Basel     4092.805    1 day 20 hours   7.588576  47.559599\n",
       "4       Doha     2164.477  22 hours 39 mins  51.531040  25.285447"
      ]
     },
     "execution_count": 6,
     "metadata": {},
     "output_type": "execute_result"
    }
   ],
   "source": [
    "results_df\n"
   ]
  },
  {
   "cell_type": "code",
   "execution_count": 7,
   "id": "d2d0039f-e05a-4bb2-b36c-ac44321c9176",
   "metadata": {},
   "outputs": [
    {
     "data": {
      "text/html": [
       "<div>\n",
       "<style scoped>\n",
       "    .dataframe tbody tr th:only-of-type {\n",
       "        vertical-align: middle;\n",
       "    }\n",
       "\n",
       "    .dataframe tbody tr th {\n",
       "        vertical-align: top;\n",
       "    }\n",
       "\n",
       "    .dataframe thead th {\n",
       "        text-align: right;\n",
       "    }\n",
       "</style>\n",
       "<table border=\"1\" class=\"dataframe\">\n",
       "  <thead>\n",
       "    <tr style=\"text-align: right;\">\n",
       "      <th></th>\n",
       "      <th>Target</th>\n",
       "      <th>Distance_km</th>\n",
       "      <th>Duration</th>\n",
       "      <th>Longitude</th>\n",
       "      <th>Latitude</th>\n",
       "    </tr>\n",
       "  </thead>\n",
       "  <tbody>\n",
       "    <tr>\n",
       "      <th>1</th>\n",
       "      <td>Amsterdam</td>\n",
       "      <td>4534.843</td>\n",
       "      <td>2 days 0 hours</td>\n",
       "      <td>4.904139</td>\n",
       "      <td>52.367573</td>\n",
       "    </tr>\n",
       "    <tr>\n",
       "      <th>3</th>\n",
       "      <td>Basel</td>\n",
       "      <td>4092.805</td>\n",
       "      <td>1 day 20 hours</td>\n",
       "      <td>7.588576</td>\n",
       "      <td>47.559599</td>\n",
       "    </tr>\n",
       "    <tr>\n",
       "      <th>2</th>\n",
       "      <td>Valletta</td>\n",
       "      <td>3792.883</td>\n",
       "      <td>2 days 3 hours</td>\n",
       "      <td>14.514100</td>\n",
       "      <td>35.899237</td>\n",
       "    </tr>\n",
       "  </tbody>\n",
       "</table>\n",
       "</div>"
      ],
      "text/plain": [
       "      Target  Distance_km        Duration  Longitude   Latitude\n",
       "1  Amsterdam     4534.843  2 days 0 hours   4.904139  52.367573\n",
       "3      Basel     4092.805  1 day 20 hours   7.588576  47.559599\n",
       "2   Valletta     3792.883  2 days 3 hours  14.514100  35.899237"
      ]
     },
     "execution_count": 7,
     "metadata": {},
     "output_type": "execute_result"
    }
   ],
   "source": [
    "# Sort dataframe by Distance_km in descending order and select top 3\n",
    "furthest_cities_by_dis = results_df.sort_values('Distance_km', ascending=False).head(3)\n",
    "\n",
    "# Print the furthest cities\n",
    "furthest_cities_by_dis"
   ]
  }
 ],
 "metadata": {
  "kernelspec": {
   "display_name": "Python 3",
   "language": "python",
   "name": "python3"
  },
  "language_info": {
   "codemirror_mode": {
    "name": "ipython",
    "version": 3
   },
   "file_extension": ".py",
   "mimetype": "text/x-python",
   "name": "python",
   "nbconvert_exporter": "python",
   "pygments_lexer": "ipython3",
   "version": "3.8.8"
  },
  "widgets": {
   "application/vnd.jupyter.widget-state+json": {
    "state": {},
    "version_major": 2,
    "version_minor": 0
   }
  }
 },
 "nbformat": 4,
 "nbformat_minor": 5
}
