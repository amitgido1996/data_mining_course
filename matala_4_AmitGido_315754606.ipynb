{
 "cells": [
  {
   "cell_type": "markdown",
   "id": "0d4ec879-8077-4273-9141-799857681d1a",
   "metadata": {},
   "source": [
    "## Assignment 4 : web scraping \n",
    "#### Name : Amit Gido\n",
    "#### ID : 315754606"
   ]
  },
  {
   "cell_type": "code",
   "execution_count": 1,
   "id": "6b5f81b0-e5d1-480e-a2fc-eca1ee1bdd09",
   "metadata": {},
   "outputs": [],
   "source": [
    "import pandas as pd\n",
    "import numpy as np\n",
    "import requests\n",
    "from bs4 import BeautifulSoup\n",
    "import re\n"
   ]
  },
  {
   "cell_type": "code",
   "execution_count": 2,
   "id": "3284b05e-d98f-40cf-aa08-57435c13803d",
   "metadata": {},
   "outputs": [],
   "source": [
    "URL = \"https://www.madlan.co.il/for-sale/הוד-השרון-ישראל\"\n",
    "headers = {'User-Agent': 'Mozilla/5.0 (Windows NT 10.0) AppleWebKit/537.36 (KHTML, like Gecko) Chrome/113.0.0.0 Safari/537.36'}\n",
    "page = requests.get(URL, headers=headers)\n"
   ]
  },
  {
   "cell_type": "code",
   "execution_count": 6,
   "id": "97c9e8db-472e-4abd-8fe1-b705910b4e92",
   "metadata": {},
   "outputs": [
    {
     "name": "stdout",
     "output_type": "stream",
     "text": [
      "Error status code 403\n"
     ]
    }
   ],
   "source": [
    "if page.status_code == 200:\n",
    "    soup = BeautifulSoup(page.content, \"html.parser\")\n",
    "    apartments = []\n",
    "    links = soup.find_all('a', href=True)\n",
    "    for link in links:\n",
    "        href = link['href']\n",
    "        if href.startswith('/listings'):\n",
    "            apartment_url = f\"https://www.madlan.co.il{href}\"\n",
    "            print(apartment_url)\n",
    "            apartment_page = requests.get(apartment_url, headers=headers)\n",
    "            if apartment_page.status_code == 200:\n",
    "                apartment_soup = BeautifulSoup(apartment_page.content, \"html.parser\")\n",
    "\n",
    "                primary_address = apartment_soup.find('h1', {'data-auto': 'primary_address_text'})\n",
    "                if primary_address is None:\n",
    "                    continue\n",
    "\n",
    "                address_parts = primary_address.text.split()\n",
    "                if len(address_parts) < 2:\n",
    "                    continue\n",
    "\n",
    "                street = ' '.join(address_parts[:-1])\n",
    "                number_in_street = ''.join(filter(str.isdigit, address_parts[-1]))\n",
    "                if number_in_street:\n",
    "                    number_in_street = int(number_in_street)\n",
    "                else:\n",
    "                    number_in_street = None\n",
    "\n",
    "                secondary_address = apartment_soup.find('div', {'data-auto': 'secondary_address_text'}).text\n",
    "                if ',' in secondary_address:\n",
    "                    city_area, city = secondary_address.split(', ')\n",
    "                else:\n",
    "                    city_area = ''\n",
    "                    city = secondary_address\n",
    "\n",
    "                type_ = apartment_soup.find('div', {'data-auto': 'business-class'}).text\n",
    "                room_number = apartment_soup.find('div', {'data-auto': 'beds-count'}).text\n",
    "\n",
    "                floor_out_of = apartment_soup.find('div', {'data-auto': 'floor'}).text\n",
    "                area = apartment_soup.find('div', {'data-auto': 'area'}).text\n",
    "\n",
    "                condition = apartment_soup.find('div', {'data-auto': 'unit-general-condition-value'}).text\n",
    "                entranceDate = apartment_soup.find('div', {'data-auto': 'unit-availability-value'}).text\n",
    "                furniture = apartment_soup.find('div', {'data-auto': 'unit-furniture-details-value'}).text\n",
    "\n",
    "                description_elem = apartment_soup.find('div', {'class': 'css-v1qjdi ebqee3y2'})\n",
    "                description = description_elem.text if description_elem else ''\n",
    "\n",
    "                price_text = apartment_soup.find('div', {'data-auto': 'current-price'}).text\n",
    "                price = int(re.sub(r'\\D', '', price_text))\n",
    "                specification = apartment_soup.find('div', {'data-auto' : \"amenities-block\"}).get_text()\n",
    "                hasElevator = 'יש מעלית' in specification\n",
    "                hasParking = \"יש חניה\" in specification\n",
    "                hasBars = \"יש סורגים\" in specification\n",
    "                hasStorage = 'יש מחסן' in specification\n",
    "                hasAirCondition = \"יש מיזוג אויר\" in specification\n",
    "                hasBalcony = \"יש מרפסת\" in specification\n",
    "                hasMamad = \"יש ממ\" in specification\n",
    "                handicapFriendly = \"לא נגיש לנכים\" not in specification\n",
    "                num_of_images =len(apartment_soup.find_all('div' ,{'data-auto':\"bulletin-image\"}))\n",
    "                \n",
    "\n",
    "                apartments.append({\n",
    "                    'City': city,\n",
    "                    'type': type_,\n",
    "                    'room_number': room_number,\n",
    "                    'Area': area,\n",
    "                    'Street': street,\n",
    "                    'number_in_street': number_in_street,\n",
    "                    'city_area': city_area,\n",
    "                    'price': price,\n",
    "                    'floor_out_of': floor_out_of,\n",
    "                    'condition': condition,\n",
    "                    'entranceDate': entranceDate,\n",
    "                    'furniture': furniture,\n",
    "                    'description': description,\n",
    "                    'hasElevator': hasElevator,\n",
    "                    'hasParking' : hasParking,\n",
    "                    'hasBars' : hasBars,\n",
    "                    'hasStorage' : hasStorage,\n",
    "                    'hasAirCondition' : hasAirCondition,\n",
    "                    'hasBalcony' : hasBalcony,\n",
    "                    'hasMamad' : hasMamad,\n",
    "                    'handicapFriendly' : handicapFriendly,\n",
    "                    'num_of_images': num_of_images })\n",
    "                \n",
    "            else:\n",
    "                print(f'Error status code {apartment_page.status_code} link {apartment_url}')\n",
    "                break\n",
    "                \n",
    "\n",
    "    df = pd.DataFrame(apartments)\n",
    "    df\n",
    "    \n",
    "else:\n",
    "    print(f'Error status code {page.status_code}')\n",
    "    "
   ]
  },
  {
   "cell_type": "code",
   "execution_count": 4,
   "id": "f03a3d08-f4e3-4367-b1d8-514246c81b9c",
   "metadata": {},
   "outputs": [
    {
     "ename": "NameError",
     "evalue": "name 'df' is not defined",
     "output_type": "error",
     "traceback": [
      "\u001b[1;31m---------------------------------------------------------------------------\u001b[0m",
      "\u001b[1;31mNameError\u001b[0m                                 Traceback (most recent call last)",
      "\u001b[1;32m<ipython-input-4-3e1d22e2fa85>\u001b[0m in \u001b[0;36m<module>\u001b[1;34m\u001b[0m\n\u001b[1;32m----> 1\u001b[1;33m \u001b[0mdf\u001b[0m\u001b[1;33m.\u001b[0m\u001b[0mto_excel\u001b[0m\u001b[1;33m(\u001b[0m\u001b[1;34m'real_estate_output.xlsx'\u001b[0m\u001b[1;33m)\u001b[0m\u001b[1;33m\u001b[0m\u001b[1;33m\u001b[0m\u001b[0m\n\u001b[0m",
      "\u001b[1;31mNameError\u001b[0m: name 'df' is not defined"
     ]
    }
   ],
   "source": [
    "df.to_excel('real_estate_output.xlsx')\n"
   ]
  },
  {
   "cell_type": "code",
   "execution_count": null,
   "id": "c322165f-4e28-4bff-bd77-4b4105fceb04",
   "metadata": {},
   "outputs": [],
   "source": [
    "df\n"
   ]
  }
 ],
 "metadata": {
  "kernelspec": {
   "display_name": "Python 3",
   "language": "python",
   "name": "python3"
  },
  "language_info": {
   "codemirror_mode": {
    "name": "ipython",
    "version": 3
   },
   "file_extension": ".py",
   "mimetype": "text/x-python",
   "name": "python",
   "nbconvert_exporter": "python",
   "pygments_lexer": "ipython3",
   "version": "3.8.8"
  },
  "widgets": {
   "application/vnd.jupyter.widget-state+json": {
    "state": {},
    "version_major": 2,
    "version_minor": 0
   }
  }
 },
 "nbformat": 4,
 "nbformat_minor": 5
}
